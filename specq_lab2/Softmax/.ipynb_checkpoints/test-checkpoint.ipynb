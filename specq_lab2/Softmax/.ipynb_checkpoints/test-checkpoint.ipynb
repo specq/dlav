{
 "cells": [
  {
   "cell_type": "code",
   "execution_count": 1,
   "id": "third-training",
   "metadata": {},
   "outputs": [],
   "source": [
    "import numpy as np"
   ]
  },
  {
   "cell_type": "code",
   "execution_count": 59,
   "id": "nasty-wonder",
   "metadata": {},
   "outputs": [
    {
     "name": "stdout",
     "output_type": "stream",
     "text": [
      "[[0. 1. 0.]\n",
      " [1. 0. 0.]\n",
      " [0. 1. 0.]\n",
      " [0. 0. 1.]\n",
      " [0. 1. 0.]]\n",
      "[[ -2.28560181 -10.42669298   9.79466978]\n",
      " [ -9.62480849  -5.22328351  -0.48021805]\n",
      " [ -6.0155053   -3.2645522   -0.30013628]\n",
      " [ -1.73552983 -12.75283768  12.65317411]\n",
      " [ -0.7559862   -8.28425497   8.45545849]]\n",
      "9.826480207332194\n"
     ]
    }
   ],
   "source": [
    "N = 5\n",
    "C = 3\n",
    "D = 2\n",
    "rows = np.arange(N)\n",
    "cols = np.random.randint(C, size=N)\n",
    "one_hot = np.zeros([N, C])\n",
    "one_hot[rows,cols]=1\n",
    "print(one_hot)\n",
    "W = np.random.normal(size=(D,C))\n",
    "X = np.random.randint(10, size=(N,D))\n",
    "Z = np.dot(X,W)\n",
    "print(Z)\n",
    "P = -np.mean(np.sum(one_hot*np.log(np.exp(Z)/np.sum(np.exp(Z), axis=1)[:,None]), axis=1))\n",
    "print(P)"
   ]
  }
 ],
 "metadata": {
  "kernelspec": {
   "display_name": "Python 3",
   "language": "python",
   "name": "python3"
  },
  "language_info": {
   "codemirror_mode": {
    "name": "ipython",
    "version": 3
   },
   "file_extension": ".py",
   "mimetype": "text/x-python",
   "name": "python",
   "nbconvert_exporter": "python",
   "pygments_lexer": "ipython3",
   "version": "3.6.13"
  }
 },
 "nbformat": 4,
 "nbformat_minor": 5
}
